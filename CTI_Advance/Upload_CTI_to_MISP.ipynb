{
  "cells": [
    {
      "cell_type": "code",
      "execution_count": 2,
      "metadata": {
        "colab": {
          "base_uri": "https://localhost:8080/"
        },
        "id": "hZ5nYWerb2Zc",
        "outputId": "46a6f148-3e04-4a4e-8cba-d418944858a2"
      },
      "outputs": [
        {
          "output_type": "stream",
          "name": "stdout",
          "text": [
            "Collecting pymisp\n",
            "  Downloading pymisp-2.5.12-py3-none-any.whl.metadata (8.9 kB)\n",
            "Collecting pycryptodome\n",
            "  Downloading pycryptodome-3.23.0-cp37-abi3-manylinux_2_17_x86_64.manylinux2014_x86_64.whl.metadata (3.4 kB)\n",
            "Collecting deprecated>=1.2.18 (from pymisp)\n",
            "  Downloading Deprecated-1.2.18-py2.py3-none-any.whl.metadata (5.7 kB)\n",
            "Requirement already satisfied: python-dateutil>=2.9.0.post0 in /usr/local/lib/python3.11/dist-packages (from pymisp) (2.9.0.post0)\n",
            "Requirement already satisfied: requests>=2.32.3 in /usr/local/lib/python3.11/dist-packages (from pymisp) (2.32.3)\n",
            "Requirement already satisfied: wrapt<2,>=1.10 in /usr/local/lib/python3.11/dist-packages (from deprecated>=1.2.18->pymisp) (1.17.2)\n",
            "Requirement already satisfied: six>=1.5 in /usr/local/lib/python3.11/dist-packages (from python-dateutil>=2.9.0.post0->pymisp) (1.17.0)\n",
            "Requirement already satisfied: charset-normalizer<4,>=2 in /usr/local/lib/python3.11/dist-packages (from requests>=2.32.3->pymisp) (3.4.2)\n",
            "Requirement already satisfied: idna<4,>=2.5 in /usr/local/lib/python3.11/dist-packages (from requests>=2.32.3->pymisp) (3.10)\n",
            "Requirement already satisfied: urllib3<3,>=1.21.1 in /usr/local/lib/python3.11/dist-packages (from requests>=2.32.3->pymisp) (2.5.0)\n",
            "Requirement already satisfied: certifi>=2017.4.17 in /usr/local/lib/python3.11/dist-packages (from requests>=2.32.3->pymisp) (2025.7.14)\n",
            "Downloading pymisp-2.5.12-py3-none-any.whl (481 kB)\n",
            "\u001b[2K   \u001b[90m━━━━━━━━━━━━━━━━━━━━━━━━━━━━━━━━━━━━━━━━\u001b[0m \u001b[32m481.7/481.7 kB\u001b[0m \u001b[31m7.0 MB/s\u001b[0m eta \u001b[36m0:00:00\u001b[0m\n",
            "\u001b[?25hDownloading pycryptodome-3.23.0-cp37-abi3-manylinux_2_17_x86_64.manylinux2014_x86_64.whl (2.3 MB)\n",
            "\u001b[2K   \u001b[90m━━━━━━━━━━━━━━━━━━━━━━━━━━━━━━━━━━━━━━━━\u001b[0m \u001b[32m2.3/2.3 MB\u001b[0m \u001b[31m33.1 MB/s\u001b[0m eta \u001b[36m0:00:00\u001b[0m\n",
            "\u001b[?25hDownloading Deprecated-1.2.18-py2.py3-none-any.whl (10.0 kB)\n",
            "Installing collected packages: pycryptodome, deprecated, pymisp\n",
            "Successfully installed deprecated-1.2.18 pycryptodome-3.23.0 pymisp-2.5.12\n"
          ]
        }
      ],
      "source": [
        "!pip3 install pymisp pycryptodome"
      ]
    },
    {
      "cell_type": "code",
      "execution_count": null,
      "metadata": {
        "id": "BItQSdRb7P48"
      },
      "outputs": [],
      "source": [
        "from Crypto.Cipher import AES\n",
        "import base64\n",
        "import hashlib\n",
        "from Crypto.Random import get_random_bytes\n",
        "\n",
        "def encrypt(plaintext, key):\n",
        "    key = hashlib.sha256(key.encode()).digest()\n",
        "    cipher = AES.new(key, AES.MODE_EAX)\n",
        "    ciphertext, tag = cipher.encrypt_and_digest(plaintext.encode('utf-8'))\n",
        "    encrypted_data = cipher.nonce + ciphertext\n",
        "    return base64.b64encode(encrypted_data).decode('utf-8')\n",
        "\n",
        "plaintext = \"MISP_API_KEY\"\n",
        "key = \"ais3_2025_cycraft\"\n",
        "\n",
        "# encrypted_text = encrypt(plaintext, key)\n",
        "# print(\"Encrypted Text:\", encrypted_text)"
      ]
    },
    {
      "cell_type": "code",
      "execution_count": 3,
      "metadata": {
        "colab": {
          "base_uri": "https://localhost:8080/"
        },
        "id": "m2JUbc8SdVE9",
        "outputId": "8179bb3b-6ff4-4d37-fbda-e28a8cba447a"
      },
      "outputs": [
        {
          "output_type": "stream",
          "name": "stdout",
          "text": [
            "Decrypted Text: rqSYiiBDnOAzT2UzQ4iXRALW22zJvlgImu8sGZg2\n"
          ]
        }
      ],
      "source": [
        "from Crypto.Cipher import AES\n",
        "import base64\n",
        "import hashlib\n",
        "\n",
        "def decrypt(encrypted_text, key):\n",
        "    key = hashlib.sha256(key.encode()).digest()\n",
        "    encrypted_text = base64.b64decode(encrypted_text)\n",
        "    nonce = encrypted_text[:16]\n",
        "    ciphertext = encrypted_text[16:]\n",
        "    cipher = AES.new(key, AES.MODE_EAX, nonce=nonce)\n",
        "    plaintext = cipher.decrypt(ciphertext)\n",
        "    return plaintext.decode('utf-8')\n",
        "\n",
        "\n",
        "key = \"ais3_2025_cycraft\"\n",
        "encrypted_text = \"OpR/RJfaK7psxkK9LJPyqT/XbCLOAISR7ryGdSN4kjEStWwyCztV+Rnq0mlx4JbcZiAVdOwEfac=\"\n",
        "decrypted_text = decrypt(encrypted_text, key)\n",
        "print(\"Decrypted Text:\", decrypted_text)"
      ]
    },
    {
      "cell_type": "code",
      "execution_count": 5,
      "metadata": {
        "colab": {
          "base_uri": "https://localhost:8080/"
        },
        "id": "6oC8CE409l2m",
        "outputId": "3011b979-4fe1-486a-aacd-4afb1779d386"
      },
      "outputs": [
        {
          "output_type": "stream",
          "name": "stdout",
          "text": [
            "181.188.176.247\n",
            "8.222.142.216\n"
          ]
        }
      ],
      "source": [
        "# 請註冊一個 ABuseIPDB 的 API Key\n",
        "# https://www.abuseipdb.com/account\n",
        "# 然後填在下面 API_KEY\n",
        "\n",
        "import requests\n",
        "import random\n",
        "\n",
        "API_KEY = '815ee3c7d30732ca4a5fdb56986cf17c1b45f0a17df4f2335dffdfc04f381bd29001f6411a34d62d'\n",
        "\n",
        "url = 'https://api.abuseipdb.com/api/v2/blacklist'\n",
        "headers = {\n",
        "    'Key': API_KEY,\n",
        "    'Accept': 'application/json'\n",
        "}\n",
        "params = {\n",
        "    'confidenceMinimum': 90,\n",
        "    'limit': 100\n",
        "}\n",
        "\n",
        "response = requests.get(url, headers=headers, params=params)\n",
        "data = response.json()\n",
        "\n",
        "# 隨機取 2 筆 IP\n",
        "ips = data['data']\n",
        "random_ips = random.sample(ips, 2)\n",
        "\n",
        "for ip in random_ips:\n",
        "    print(ip['ipAddress'])\n"
      ]
    },
    {
      "cell_type": "code",
      "execution_count": 8,
      "metadata": {
        "id": "-FfhPTDPbzaV"
      },
      "outputs": [],
      "source": [
        "from pymisp import MISPEvent,MISPOrganisation, PyMISP\n",
        "from dateutil.parser import parser\n",
        "import json\n",
        "from pymisp.tools import feed_meta_generator\n",
        "from io import BytesIO"
      ]
    },
    {
      "cell_type": "code",
      "execution_count": 9,
      "metadata": {
        "id": "UlQos5dOb6NP"
      },
      "outputs": [],
      "source": [
        "make_feed = False\n",
        "misp = None"
      ]
    },
    {
      "cell_type": "code",
      "execution_count": 10,
      "metadata": {
        "colab": {
          "base_uri": "https://localhost:8080/"
        },
        "id": "GfX-MvWHcD50",
        "outputId": "de0849d8-9326-4bf2-d52f-3c8fdfad0c33"
      },
      "outputs": [
        {
          "output_type": "stream",
          "name": "stderr",
          "text": [
            "/usr/local/lib/python3.11/dist-packages/urllib3/connectionpool.py:1097: InsecureRequestWarning: Unverified HTTPS request is being made to host 'misp.sectools.tw'. Adding certificate verification is strongly advised. See: https://urllib3.readthedocs.io/en/latest/advanced-usage.html#tls-warnings\n",
            "  warnings.warn(\n",
            "/usr/local/lib/python3.11/dist-packages/urllib3/connectionpool.py:1097: InsecureRequestWarning: Unverified HTTPS request is being made to host 'misp.sectools.tw'. Adding certificate verification is strongly advised. See: https://urllib3.readthedocs.io/en/latest/advanced-usage.html#tls-warnings\n",
            "  warnings.warn(\n",
            "/usr/local/lib/python3.11/dist-packages/urllib3/connectionpool.py:1097: InsecureRequestWarning: Unverified HTTPS request is being made to host 'misp.sectools.tw'. Adding certificate verification is strongly advised. See: https://urllib3.readthedocs.io/en/latest/advanced-usage.html#tls-warnings\n",
            "  warnings.warn(\n"
          ]
        }
      ],
      "source": [
        "if make_feed:\n",
        "    org = MISPOrganisation()\n",
        "    org.name = \"ais3.sectools.tw\"\n",
        "    org.uuid = \"d2ded987-c2f1-4b12-bf1d-ba9872d0d452\"\n",
        "else:\n",
        "    url = \"https://misp.sectools.tw\"\n",
        "    key = decrypted_text\n",
        "    misp = PyMISP(url,key,ssl=False)"
      ]
    },
    {
      "cell_type": "code",
      "execution_count": 13,
      "metadata": {
        "colab": {
          "base_uri": "https://localhost:8080/"
        },
        "id": "EXznG3slciCf",
        "outputId": "bf9828fb-4d3a-4e32-ed98-b538df8b7e57"
      },
      "outputs": [
        {
          "output_type": "stream",
          "name": "stderr",
          "text": [
            "/usr/local/lib/python3.11/dist-packages/urllib3/connectionpool.py:1097: InsecureRequestWarning: Unverified HTTPS request is being made to host 'misp.sectools.tw'. Adding certificate verification is strongly advised. See: https://urllib3.readthedocs.io/en/latest/advanced-usage.html#tls-warnings\n",
            "  warnings.warn(\n",
            "/usr/local/lib/python3.11/dist-packages/urllib3/connectionpool.py:1097: InsecureRequestWarning: Unverified HTTPS request is being made to host 'misp.sectools.tw'. Adding certificate verification is strongly advised. See: https://urllib3.readthedocs.io/en/latest/advanced-usage.html#tls-warnings\n",
            "  warnings.warn(\n"
          ]
        },
        {
          "output_type": "stream",
          "name": "stdout",
          "text": [
            "{\n",
            "  \"uuid\": \"daf239ac-a893-4e5a-94be-0ba5b7fb3b8d\",\n",
            "  \"Object\": [\n",
            "    {\n",
            "      \"name\": \"domain-ip\",\n",
            "      \"meta-category\": \"network\",\n",
            "      \"template_uuid\": \"43b3b146-77eb-4931-b4cc-b66c60f28734\",\n",
            "      \"description\": \"A domain/hostname and IP address seen as a tuple in a specific time frame.\",\n",
            "      \"template_version\": \"11\",\n",
            "      \"uuid\": \"ac1ea356-f516-4972-be4d-81f0e8cc173d\",\n",
            "      \"ObjectReference\": [\n",
            "        {\n",
            "          \"uuid\": \"fa8aaf70-4ded-4f78-b532-82b4b6d073d2\",\n",
            "          \"object_uuid\": \"ac1ea356-f516-4972-be4d-81f0e8cc173d\",\n",
            "          \"referenced_uuid\": \"daf239ac-a893-4e5a-94be-0ba5b7fb3b8d\",\n",
            "          \"relationship_type\": \"related-to\",\n",
            "          \"comment\": \"ais3_friend\"\n",
            "        }\n",
            "      ],\n",
            "      \"Attribute\": [\n",
            "        {\n",
            "          \"uuid\": \"7b4262ec-1eda-47fc-a0e5-d8e026896264\",\n",
            "          \"object_relation\": \"ip\",\n",
            "          \"value\": \"8.222.142.216\",\n",
            "          \"type\": \"ip-dst\",\n",
            "          \"category\": \"Network activity\",\n",
            "          \"disable_correlation\": false,\n",
            "          \"to_ids\": true\n",
            "        },\n",
            "        {\n",
            "          \"uuid\": \"17d2f440-2431-4cd5-80ee-9fc73ed391f4\",\n",
            "          \"object_relation\": \"first-seen\",\n",
            "          \"value\": \"2025-07-30T06:53:38.037688\",\n",
            "          \"type\": \"datetime\",\n",
            "          \"disable_correlation\": true,\n",
            "          \"to_ids\": false,\n",
            "          \"category\": \"Other\"\n",
            "        }\n",
            "      ],\n",
            "      \"distribution\": \"5\",\n",
            "      \"sharing_group_id\": \"0\"\n",
            "    }\n",
            "  ],\n",
            "  \"Tag\": [\n",
            "    {\n",
            "      \"name\": \"tlp:white\"\n",
            "    }\n",
            "  ],\n",
            "  \"info\": \"[8.222.142.216] is suspected of DDoS, found by tea\",\n",
            "  \"date\": \"2025-07-30\",\n",
            "  \"distribution\": \"3\"\n",
            "}\n"
          ]
        }
      ],
      "source": [
        "from datetime import datetime\n",
        "from pathlib import Path\n",
        "blacklist_ip = [\"8.222.142.216\"]\n",
        "nick_name = \"tea\"\n",
        "for p in blacklist_ip:\n",
        "    event = MISPEvent()\n",
        "    event.info = f\"[{str(p)}] is suspected of DDoS, found by {str(nick_name)}\"\n",
        "    event.date = datetime.now()\n",
        "    event.distribution = 3\n",
        "    event.add_tag('tlp:white')\n",
        "    if make_feed:\n",
        "        event.org = org\n",
        "    else:\n",
        "        e = misp.search(eventinfo=event.info, metadata=True, pythonify=True)\n",
        "        if e:\n",
        "            # Already added.\n",
        "            continue\n",
        "\n",
        "    obj_ip = event.add_object(name='domain-ip', standalone=False)\n",
        "    obj_ip.add_attribute('ip', p)\n",
        "    obj_ip.add_attribute('first-seen', datetime.now() )\n",
        "    obj_ip.add_reference(event.uuid, 'related-to',\"ais3_friend\")\n",
        "\n",
        "    if make_feed:\n",
        "        with (Path('output') / f'{event.uuid}.json').open('w') as _w:\n",
        "            json.dump(event.to_feed(), _w)\n",
        "    else:\n",
        "        misp.add_event(event)\n",
        "    print(event.to_json(indent=2))\n",
        "if make_feed:\n",
        "    feed_meta_generator(Path('output'))"
      ]
    },
    {
      "cell_type": "code",
      "execution_count": null,
      "metadata": {
        "id": "zhmQJ3m5fe1p"
      },
      "outputs": [],
      "source": []
    }
  ],
  "metadata": {
    "colab": {
      "provenance": []
    },
    "kernelspec": {
      "display_name": "base",
      "language": "python",
      "name": "python3"
    },
    "language_info": {
      "codemirror_mode": {
        "name": "ipython",
        "version": 3
      },
      "file_extension": ".py",
      "mimetype": "text/x-python",
      "name": "python",
      "nbconvert_exporter": "python",
      "pygments_lexer": "ipython3",
      "version": "3.12.2"
    }
  },
  "nbformat": 4,
  "nbformat_minor": 0
}